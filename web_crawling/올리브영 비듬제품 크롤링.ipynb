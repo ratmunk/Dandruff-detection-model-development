{
 "cells": [
  {
   "cell_type": "code",
   "execution_count": 1,
   "metadata": {
    "id": "7Q5yTq-Ufqh5"
   },
   "outputs": [],
   "source": [
    "import requests\n",
    "import random as rd\n",
    "import re\n",
    "import time\n",
    "import pandas as pd\n",
    "from datetime import datetime\n",
    "from urllib.request import urlopen\n",
    "from bs4 import BeautifulSoup\n",
    "from selenium import webdriver\n",
    "from selenium.webdriver.common.by import By\n",
    "from selenium.webdriver import ActionChains\n",
    "\n"
   ]
  },
  {
   "cell_type": "markdown",
   "metadata": {
    "id": "qFsm7oWYfqiB"
   },
   "source": [
    "# 비듬\n",
    "\n",
    "수집 데이터\n",
    "제품명,가격,평점"
   ]
  },
  {
   "cell_type": "code",
   "execution_count": 2,
   "metadata": {
    "id": "0WxtwBzMfqiE"
   },
   "outputs": [],
   "source": [
    "# driver.close()"
   ]
  },
  {
   "cell_type": "code",
   "execution_count": 19,
   "metadata": {
    "id": "2RO6a1gHfqiG"
   },
   "outputs": [],
   "source": [
    "# 비듬 인기 페이지(1 page)\n",
    "driver = webdriver.Chrome()\n",
    "driver.get(\"https://www.oliveyoung.co.kr/store/search/getSearchMain.do?query=비듬&giftYn=N&t_page=헤어케어%3E샴푸%2F린스&t_click=검색창&t_search_name=비듬\")\n",
    "driver.maximize_window()"
   ]
  },
  {
   "cell_type": "code",
   "execution_count": 21,
   "metadata": {
    "id": "xxGFxkQVfqiH"
   },
   "outputs": [],
   "source": [
    "# 제품 선택 (임의로 1의 제품을 선택하여 수집)\n",
    "first_content = driver.find_element(By.CSS_SELECTOR, '#w_cate_prd_list > li:nth-child(1) > div > a > img')\n",
    "first_content.click()"
   ]
  },
  {
   "cell_type": "code",
   "execution_count": 5,
   "metadata": {
    "id": "qUDzH3lKfqiI"
   },
   "outputs": [],
   "source": [
    "req = driver.page_source\n",
    "soup = BeautifulSoup(req, 'html.parser')"
   ]
  },
  {
   "cell_type": "markdown",
   "metadata": {
    "id": "Zw7PeB3yfqiM"
   },
   "source": [
    "#### 제품명"
   ]
  },
  {
   "cell_type": "code",
   "execution_count": 6,
   "metadata": {
    "id": "xipkjFhwfqiN"
   },
   "outputs": [
    {
     "data": {
      "text/plain": [
       "'[비듬케어] 닥터포헤어 폴리젠 비듬 개선 샴푸 300ml(탈모기능성) '"
      ]
     },
     "execution_count": 6,
     "metadata": {},
     "output_type": "execute_result"
    }
   ],
   "source": [
    "name = soup.select_one('p.prd_name').get_text()\n",
    "name"
   ]
  },
  {
   "cell_type": "markdown",
   "metadata": {
    "id": "rhE9q8oKfqiX"
   },
   "source": [
    "### 가격"
   ]
  },
  {
   "cell_type": "code",
   "execution_count": 7,
   "metadata": {},
   "outputs": [
    {
     "data": {
      "text/plain": [
       "'15,900'"
      ]
     },
     "execution_count": 7,
     "metadata": {},
     "output_type": "execute_result"
    }
   ],
   "source": [
    "price_element = soup.select_one('span.price-2 strong').get_text()\n",
    "price_element\n",
    "        "
   ]
  },
  {
   "cell_type": "markdown",
   "metadata": {},
   "source": [
    "### 평점 "
   ]
  },
  {
   "cell_type": "code",
   "execution_count": 8,
   "metadata": {},
   "outputs": [
    {
     "data": {
      "text/plain": [
       "'4.8'"
      ]
     },
     "execution_count": 8,
     "metadata": {},
     "output_type": "execute_result"
    }
   ],
   "source": [
    "grade= soup.select_one('p#repReview b').get_text().split('\\n\\t\\t\\t\\t\\t\\t\\t\\t\\n\\t\\t\\t\\t\\t\\t\\t\\t\\t\\n\\t\\t\\t\\t\\t\\t\\t\\t\\t\\t')\n",
    "grade=grade[1].split('\\n\\t\\t\\t\\t\\t\\t\\t\\t\\t\\n\\t\\t\\t\\t\\t\\t\\t\\t\\t\\n\\t\\t\\t\\t\\t\\t\\t\\t\\n\\t\\t\\t\\t\\t\\t\\t')[0]\n",
    "grade"
   ]
  },
  {
   "cell_type": "markdown",
   "metadata": {
    "id": "y_L_MPC16xZC"
   },
   "source": [
    "\n",
    "\n",
    "---\n",
    "\n"
   ]
  },
  {
   "cell_type": "markdown",
   "metadata": {
    "id": "bBlWo0H6fqil"
   },
   "source": [
    "## 자동화"
   ]
  },
  {
   "cell_type": "code",
   "execution_count": 9,
   "metadata": {
    "id": "9AuMOkj0fqim"
   },
   "outputs": [
    {
     "name": "stdout",
     "output_type": "stream",
     "text": [
      "1\n",
      "2\n",
      "3\n",
      "4\n"
     ]
    }
   ],
   "source": [
    "product = [1,2,3,4]\n",
    "product\n",
    "\n",
    "for j in product:\n",
    "    print(j)"
   ]
  },
  {
   "cell_type": "code",
   "execution_count": 10,
   "metadata": {},
   "outputs": [],
   "source": [
    "page = [1]"
   ]
  },
  {
   "cell_type": "code",
   "execution_count": 11,
   "metadata": {},
   "outputs": [],
   "source": [
    "#w_cate_prd_list > li:nth-child(1) > div > a > img"
   ]
  },
  {
   "cell_type": "code",
   "execution_count": 12,
   "metadata": {
    "id": "7DvYELhofqim"
   },
   "outputs": [
    {
     "name": "stdout",
     "output_type": "stream",
     "text": [
      "1페이지 1번 상품 리뷰 크롤링 시작-------------------\n",
      "1페이지 2번 상품 리뷰 크롤링 시작-------------------\n",
      "1페이지 3번 상품 리뷰 크롤링 시작-------------------\n",
      "1페이지 4번 상품 리뷰 크롤링 시작-------------------\n"
     ]
    }
   ],
   "source": [
    "import time\n",
    "# 비듬 인기페이지(1 page)\n",
    "\n",
    "names = [] # 제품명\n",
    "pro_price = [] # 판매 가격\n",
    "pro_rating = [] # 평점\n",
    "\n",
    "driver = webdriver.Chrome()\n",
    "\n",
    "for i in page:\n",
    "# 페이지 열기\n",
    "    driver.get(\"https://www.oliveyoung.co.kr/store/search/getSearchMain.do?query=%EB%B9%84%EB%93%AC&giftYn=N&t_page=%ED%97%A4%EC%96%B4%EC%BC%80%EC%96%B4%3E%EC%83%B4%ED%91%B8%2F%EB%A6%B0%EC%8A%A4&t_click=%EA%B2%80%EC%83%89%EC%B0%BD&t_search_name=%EB%B9%84%EB%93%AC\")\n",
    "    driver.maximize_window()\n",
    "    time.sleep(3)\n",
    "\n",
    "    for j in product:\n",
    "        print(f'1페이지 {j}번 상품 리뷰 크롤링 시작-------------------')\n",
    "        first_content = driver.find_element(By.CSS_SELECTOR, '#w_cate_prd_list > li:nth-child({}) > div > a > img'.format(j))\n",
    "        first_content.click()\n",
    "        time.sleep(2)\n",
    "            \n",
    "        # 화면 html 코드 가져오기\n",
    "        req = driver.page_source\n",
    "        soup = BeautifulSoup(req, 'html.parser')\n",
    "\n",
    "    \n",
    "        # 이름\n",
    "        name = soup.select_one('p.prd_name').get_text()\n",
    "        names.append(name)\n",
    "\n",
    "        # 가격\n",
    "        price_element = soup.select_one('span.price-2 strong').get_text()\n",
    "        pro_price.append(price_element)\n",
    "        \n",
    "        #평점\n",
    "        grade= soup.select_one('p#repReview b').get_text().split('\\n\\t\\t\\t\\t\\t\\t\\t\\t\\n\\t\\t\\t\\t\\t\\t\\t\\t\\t\\n\\t\\t\\t\\t\\t\\t\\t\\t\\t\\t')\n",
    "        grade=grade[1].split('\\n\\t\\t\\t\\t\\t\\t\\t\\t\\t\\n\\t\\t\\t\\t\\t\\t\\t\\t\\t\\n\\t\\t\\t\\t\\t\\t\\t\\t\\n\\t\\t\\t\\t\\t\\t\\t')[0]\n",
    "        pro_rating.append(grade)\n",
    "        driver.back()\n",
    "        time.sleep(1)\n",
    "        \n",
    "  "
   ]
  },
  {
   "cell_type": "code",
   "execution_count": 13,
   "metadata": {
    "id": "cTI4T2ZAfqin"
   },
   "outputs": [
    {
     "data": {
      "text/plain": [
       "(4, 4, 4)"
      ]
     },
     "execution_count": 13,
     "metadata": {},
     "output_type": "execute_result"
    }
   ],
   "source": [
    "len(names),len(pro_price),len(pro_rating)"
   ]
  },
  {
   "cell_type": "code",
   "execution_count": 16,
   "metadata": {
    "id": "aaR_xyn2fqin"
   },
   "outputs": [],
   "source": [
    "import pandas as pd\n",
    "\n",
    "df=pd.DataFrame({'제품명':names,'평점': pro_rating,'가격': pro_price})"
   ]
  },
  {
   "cell_type": "code",
   "execution_count": 17,
   "metadata": {},
   "outputs": [],
   "source": [
    "df.to_csv(\"./df_sample1.csv\")"
   ]
  }
 ],
 "metadata": {
  "colab": {
   "provenance": []
  },
  "kernelspec": {
   "display_name": "Python 3 (ipykernel)",
   "language": "python",
   "name": "python3"
  },
  "language_info": {
   "codemirror_mode": {
    "name": "ipython",
    "version": 3
   },
   "file_extension": ".py",
   "mimetype": "text/x-python",
   "name": "python",
   "nbconvert_exporter": "python",
   "pygments_lexer": "ipython3",
   "version": "3.9.12"
  }
 },
 "nbformat": 4,
 "nbformat_minor": 1
}
