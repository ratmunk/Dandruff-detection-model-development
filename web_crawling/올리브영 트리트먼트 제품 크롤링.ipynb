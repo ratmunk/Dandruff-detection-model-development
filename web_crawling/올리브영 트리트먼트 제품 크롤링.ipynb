{
 "cells": [
  {
   "cell_type": "code",
   "execution_count": 1,
   "id": "aecdfcd0",
   "metadata": {},
   "outputs": [],
   "source": [
    "import requests\n",
    "import random as rd\n",
    "import re\n",
    "import time\n",
    "import pandas as pd\n",
    "from datetime import datetime\n",
    "from urllib.request import urlopen\n",
    "from bs4 import BeautifulSoup\n",
    "from selenium import webdriver\n",
    "from selenium.webdriver.common.by import By\n",
    "from selenium.webdriver import ActionChains\n"
   ]
  },
  {
   "cell_type": "markdown",
   "id": "a49e2193",
   "metadata": {},
   "source": [
    "# 트리트먼트\n",
    "수집 데이터\n",
    "제품명,가격,평점"
   ]
  },
  {
   "cell_type": "code",
   "execution_count": 2,
   "id": "e71b1e5d",
   "metadata": {},
   "outputs": [],
   "source": [
    "# 비듬 인기 페이지(1 page)\n",
    "driver = webdriver.Chrome()\n",
    "driver.get(\"https://www.oliveyoung.co.kr/store/display/getMCategoryList.do?dispCatNo=1000001000400070005&fltDispCatNo=&prdSort=01&pageIdx=1&rowsPerPage=24&searchTypeSort=btn_thumb&plusButtonFlag=N&isLoginCnt=0&aShowCnt=0&bShowCnt=0&cShowCnt=0&trackingCd=Cat1000001000400070005_Small&amplitudePageGubun=SMALL_CATE&t_page=%EC%B9%B4%ED%85%8C%EA%B3%A0%EB%A6%AC%EA%B4%80&t_click=%EC%B9%B4%ED%85%8C%EA%B3%A0%EB%A6%AC%EC%83%81%EC%84%B8_%EC%86%8C%EC%B9%B4%ED%85%8C%EA%B3%A0%EB%A6%AC&midCategory=%ED%8A%B8%EB%A6%AC%ED%8A%B8%EB%A8%BC%ED%8A%B8%2F%ED%8C%A9&smallCategory=%EC%86%8C_%ED%97%A4%EC%96%B4+%ED%8A%B8%EB%A6%AC%ED%8A%B8%EB%A8%BC%ED%8A%B8&checkBrnds=&lastChkBrnd=&t_3rd_category_type=%EC%86%8C_%ED%97%A4%EC%96%B4+%ED%8A%B8%EB%A6%AC%ED%8A%B8%EB%A8%BC%ED%8A%B8\")\n",
    "driver.maximize_window()"
   ]
  },
  {
   "cell_type": "code",
   "execution_count": 3,
   "id": "db6a3091",
   "metadata": {},
   "outputs": [],
   "source": [
    "# 제품 선택 (임의로 1의 제품을 선택하여 수집)\n",
    "first_content = driver.find_element(By.CSS_SELECTOR, '#Contents > ul:nth-child(7) > li.flag > div > a > img')\n",
    "first_content.click()"
   ]
  },
  {
   "cell_type": "code",
   "execution_count": 4,
   "id": "c9978692",
   "metadata": {},
   "outputs": [],
   "source": [
    "req = driver.page_source\n",
    "soup = BeautifulSoup(req, 'html.parser')"
   ]
  },
  {
   "cell_type": "markdown",
   "id": "501d3982",
   "metadata": {},
   "source": [
    "-  제품명"
   ]
  },
  {
   "cell_type": "code",
   "execution_count": 5,
   "id": "b83b832b",
   "metadata": {},
   "outputs": [
    {
     "data": {
      "text/plain": [
       "'[헤어케어 1위/3월 올영픽] 어노브 대용량 딥 데미지 트리트먼트 EX 더블 기획 2종 택1(텐더블룸/웜페탈)'"
      ]
     },
     "execution_count": 5,
     "metadata": {},
     "output_type": "execute_result"
    }
   ],
   "source": [
    "name = soup.select_one('p.prd_name').get_text()\n",
    "name"
   ]
  },
  {
   "cell_type": "markdown",
   "id": "756ae6f1",
   "metadata": {},
   "source": [
    "- 가격"
   ]
  },
  {
   "cell_type": "code",
   "execution_count": 6,
   "id": "b85a85d5",
   "metadata": {},
   "outputs": [
    {
     "data": {
      "text/plain": [
       "'29,800'"
      ]
     },
     "execution_count": 6,
     "metadata": {},
     "output_type": "execute_result"
    }
   ],
   "source": [
    "price_element = soup.select_one('span.price-2 strong').get_text()\n",
    "price_element"
   ]
  },
  {
   "cell_type": "markdown",
   "id": "402f7bd4",
   "metadata": {},
   "source": [
    "- 평점"
   ]
  },
  {
   "cell_type": "code",
   "execution_count": 7,
   "id": "3382df27",
   "metadata": {},
   "outputs": [
    {
     "data": {
      "text/plain": [
       "'4.8'"
      ]
     },
     "execution_count": 7,
     "metadata": {},
     "output_type": "execute_result"
    }
   ],
   "source": [
    "grade= soup.select_one('p#repReview b').get_text().split('\\n\\t\\t\\t\\t\\t\\t\\t\\t\\n\\t\\t\\t\\t\\t\\t\\t\\t\\t\\n\\t\\t\\t\\t\\t\\t\\t\\t\\t\\t')\n",
    "grade=grade[1].split('\\n\\t\\t\\t\\t\\t\\t\\t\\t\\t\\n\\t\\t\\t\\t\\t\\t\\t\\t\\t\\n\\t\\t\\t\\t\\t\\t\\t\\t\\n\\t\\t\\t\\t\\t\\t\\t')[0]\n",
    "grade"
   ]
  },
  {
   "cell_type": "code",
   "execution_count": 8,
   "id": "50b62abb",
   "metadata": {},
   "outputs": [],
   "source": [
    "driver.close()"
   ]
  },
  {
   "cell_type": "markdown",
   "id": "2ea4044f",
   "metadata": {},
   "source": [
    "- 자동화 "
   ]
  },
  {
   "cell_type": "code",
   "execution_count": 9,
   "id": "119011c9",
   "metadata": {},
   "outputs": [
    {
     "name": "stdout",
     "output_type": "stream",
     "text": [
      "7\n",
      "8\n",
      "9\n",
      "10\n"
     ]
    }
   ],
   "source": [
    "product = [7,8,9,10]\n",
    "product\n",
    "\n",
    "for j in product:\n",
    "    print(j)"
   ]
  },
  {
   "cell_type": "code",
   "execution_count": 10,
   "id": "81579ec6",
   "metadata": {},
   "outputs": [],
   "source": [
    "page = [1]"
   ]
  },
  {
   "cell_type": "code",
   "execution_count": 11,
   "id": "c3e28bf1",
   "metadata": {},
   "outputs": [
    {
     "name": "stdout",
     "output_type": "stream",
     "text": [
      "1페이지 7번 상품 리뷰 크롤링 시작-------------------\n",
      "1페이지 8번 상품 리뷰 크롤링 시작-------------------\n",
      "1페이지 9번 상품 리뷰 크롤링 시작-------------------\n",
      "1페이지 10번 상품 리뷰 크롤링 시작-------------------\n"
     ]
    }
   ],
   "source": [
    "import time\n",
    "# 트리트먼트 인기페이지(1 page)\n",
    "\n",
    "names = [] # 제품명\n",
    "pro_price = [] # 판매 가격\n",
    "pro_rating = [] # 평점\n",
    "\n",
    "driver = webdriver.Chrome()\n",
    "\n",
    "for i in page:\n",
    "# 페이지 열기\n",
    "    driver.get(\"https://www.oliveyoung.co.kr/store/display/getMCategoryList.do?dispCatNo=1000001000400070005&fltDispCatNo=&prdSort=01&pageIdx=1&rowsPerPage=24&searchTypeSort=btn_thumb&plusButtonFlag=N&isLoginCnt=0&aShowCnt=0&bShowCnt=0&cShowCnt=0&trackingCd=Cat1000001000400070005_Small&amplitudePageGubun=SMALL_CATE&t_page=%EC%B9%B4%ED%85%8C%EA%B3%A0%EB%A6%AC%EA%B4%80&t_click=%EC%B9%B4%ED%85%8C%EA%B3%A0%EB%A6%AC%EC%83%81%EC%84%B8_%EC%86%8C%EC%B9%B4%ED%85%8C%EA%B3%A0%EB%A6%AC&midCategory=%ED%8A%B8%EB%A6%AC%ED%8A%B8%EB%A8%BC%ED%8A%B8%2F%ED%8C%A9&smallCategory=%EC%86%8C_%ED%97%A4%EC%96%B4+%ED%8A%B8%EB%A6%AC%ED%8A%B8%EB%A8%BC%ED%8A%B8&checkBrnds=&lastChkBrnd=&t_3rd_category_type=%EC%86%8C_%ED%97%A4%EC%96%B4+%ED%8A%B8%EB%A6%AC%ED%8A%B8%EB%A8%BC%ED%8A%B8\")\n",
    "    driver.maximize_window()\n",
    "    time.sleep(3)\n",
    "\n",
    "    for j in product:\n",
    "        print(f'1페이지 {j}번 상품 리뷰 크롤링 시작-------------------')\n",
    "        first_content = driver.find_element(By.CSS_SELECTOR, '#Contents > ul:nth-child({}) > li.flag > div > a > img'.format(j))\n",
    "        first_content.click()\n",
    "        time.sleep(2)\n",
    "            \n",
    "        # 화면 html 코드 가져오기\n",
    "        req = driver.page_source\n",
    "        soup = BeautifulSoup(req, 'html.parser')\n",
    "\n",
    "    \n",
    "        # 이름\n",
    "        name = soup.select_one('p.prd_name').get_text()\n",
    "        names.append(name)\n",
    "\n",
    "        # 가격\n",
    "        price_element = soup.select_one('span.price-2 strong').get_text()\n",
    "        pro_price.append(price_element)\n",
    "        \n",
    "        #평점\n",
    "        grade= soup.select_one('p#repReview b').get_text().split('\\n\\t\\t\\t\\t\\t\\t\\t\\t\\n\\t\\t\\t\\t\\t\\t\\t\\t\\t\\n\\t\\t\\t\\t\\t\\t\\t\\t\\t\\t')\n",
    "        grade=grade[1].split('\\n\\t\\t\\t\\t\\t\\t\\t\\t\\t\\n\\t\\t\\t\\t\\t\\t\\t\\t\\t\\n\\t\\t\\t\\t\\t\\t\\t\\t\\n\\t\\t\\t\\t\\t\\t\\t')[0]\n",
    "        pro_rating.append(grade)\n",
    "        driver.back()\n",
    "        time.sleep(1)"
   ]
  },
  {
   "cell_type": "code",
   "execution_count": 12,
   "id": "73770ba6",
   "metadata": {},
   "outputs": [
    {
     "data": {
      "text/plain": [
       "(4, 4, 4)"
      ]
     },
     "execution_count": 12,
     "metadata": {},
     "output_type": "execute_result"
    }
   ],
   "source": [
    "len(names),len(pro_price),len(pro_rating)"
   ]
  },
  {
   "cell_type": "code",
   "execution_count": 14,
   "id": "c8d7aac3",
   "metadata": {},
   "outputs": [
    {
     "data": {
      "text/html": [
       "<div>\n",
       "<style scoped>\n",
       "    .dataframe tbody tr th:only-of-type {\n",
       "        vertical-align: middle;\n",
       "    }\n",
       "\n",
       "    .dataframe tbody tr th {\n",
       "        vertical-align: top;\n",
       "    }\n",
       "\n",
       "    .dataframe thead th {\n",
       "        text-align: right;\n",
       "    }\n",
       "</style>\n",
       "<table border=\"1\" class=\"dataframe\">\n",
       "  <thead>\n",
       "    <tr style=\"text-align: right;\">\n",
       "      <th></th>\n",
       "      <th>제품명</th>\n",
       "      <th>평점</th>\n",
       "      <th>가격</th>\n",
       "    </tr>\n",
       "  </thead>\n",
       "  <tbody>\n",
       "    <tr>\n",
       "      <th>0</th>\n",
       "      <td>[헤어케어 1위/3월 올영픽] 어노브 대용량 딥 데미지 트리트먼트 EX 더블 기획 ...</td>\n",
       "      <td>4.8</td>\n",
       "      <td>29,800</td>\n",
       "    </tr>\n",
       "    <tr>\n",
       "      <th>1</th>\n",
       "      <td>모로칸오일 헤어 트리트먼트 50ml 단품/기획 택1</td>\n",
       "      <td>4.8</td>\n",
       "      <td>30,000</td>\n",
       "    </tr>\n",
       "    <tr>\n",
       "      <th>2</th>\n",
       "      <td>미쟝센 살롱10 단백질 트리트먼트 에센스팩 990ml (손상/극손상) 2종 택1</td>\n",
       "      <td>4.8</td>\n",
       "      <td>17,010</td>\n",
       "    </tr>\n",
       "    <tr>\n",
       "      <th>3</th>\n",
       "      <td>모레모 헤어 트리트먼트 미라클 2X 베이커리 에디션 기획 480ml(60ml 증정)</td>\n",
       "      <td>4.8</td>\n",
       "      <td>22,900</td>\n",
       "    </tr>\n",
       "  </tbody>\n",
       "</table>\n",
       "</div>"
      ],
      "text/plain": [
       "                                                 제품명   평점      가격\n",
       "0  [헤어케어 1위/3월 올영픽] 어노브 대용량 딥 데미지 트리트먼트 EX 더블 기획 ...  4.8  29,800\n",
       "1                       모로칸오일 헤어 트리트먼트 50ml 단품/기획 택1  4.8  30,000\n",
       "2      미쟝센 살롱10 단백질 트리트먼트 에센스팩 990ml (손상/극손상) 2종 택1   4.8  17,010\n",
       "3     모레모 헤어 트리트먼트 미라클 2X 베이커리 에디션 기획 480ml(60ml 증정)  4.8  22,900"
      ]
     },
     "execution_count": 14,
     "metadata": {},
     "output_type": "execute_result"
    }
   ],
   "source": [
    "import pandas as pd\n",
    "\n",
    "df=pd.DataFrame({'제품명':names,'평점': pro_rating,'가격': pro_price})\n",
    "df"
   ]
  },
  {
   "cell_type": "code",
   "execution_count": 15,
   "id": "5d8fcb57",
   "metadata": {},
   "outputs": [],
   "source": [
    "df.to_csv(\"./df_sample2.csv\")"
   ]
  }
 ],
 "metadata": {
  "kernelspec": {
   "display_name": "Python 3 (ipykernel)",
   "language": "python",
   "name": "python3"
  },
  "language_info": {
   "codemirror_mode": {
    "name": "ipython",
    "version": 3
   },
   "file_extension": ".py",
   "mimetype": "text/x-python",
   "name": "python",
   "nbconvert_exporter": "python",
   "pygments_lexer": "ipython3",
   "version": "3.9.12"
  }
 },
 "nbformat": 4,
 "nbformat_minor": 5
}
